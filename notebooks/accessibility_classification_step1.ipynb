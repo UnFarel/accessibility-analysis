{
 "cells": [
  {
   "cell_type": "code",
   "execution_count": 1,
   "id": "c12b2fdd",
   "metadata": {},
   "outputs": [],
   "source": [
    "import geopandas as gpd\n",
    "import pandas as pd\n",
    "from geopandas.tools import sjoin_nearest\n",
    "import os"
   ]
  },
  {
   "cell_type": "code",
   "execution_count": 3,
   "id": "78ec593d",
   "metadata": {},
   "outputs": [],
   "source": [
    "# === Пути к файлам (относительно notebooks/) ===\n",
    "base_path = \"../data/processed\"\n",
    "\n",
    "sport1_path = os.path.join(base_path, \"sport_629.geojson\")\n",
    "sport2_path = os.path.join(base_path, \"sport_893.geojson\")\n",
    "stops_path = os.path.join(base_path, \"transport_stops.geojson\")\n",
    "output_path = os.path.join(base_path, \"sport_with_stops.geojson\")"
   ]
  },
  {
   "cell_type": "code",
   "execution_count": 4,
   "id": "11c6c69d",
   "metadata": {},
   "outputs": [
    {
     "name": "stderr",
     "output_type": "stream",
     "text": [
      "Skipping field Services: unsupported OGR type: 5\n"
     ]
    }
   ],
   "source": [
    "sport1 = gpd.read_file(sport1_path)\n",
    "sport2 = gpd.read_file(sport2_path)\n",
    "sports = pd.concat([sport1, sport2]).reset_index(drop=True)\n",
    "\n",
    "stops = gpd.read_file(stops_path)"
   ]
  },
  {
   "cell_type": "code",
   "execution_count": 5,
   "id": "64b5b3ef",
   "metadata": {},
   "outputs": [],
   "source": [
    "# === Приведение к одной проекции (метры) ===\n",
    "sports = sports.to_crs(\"EPSG:3857\")\n",
    "stops = stops.to_crs(\"EPSG:3857\")"
   ]
  },
  {
   "cell_type": "code",
   "execution_count": 6,
   "id": "c7273cca",
   "metadata": {},
   "outputs": [],
   "source": [
    "# === Поиск ближайшей остановки к каждому спортобъекту ===\n",
    "nearest_stops = gpd.sjoin_nearest(sports, stops, how=\"left\", distance_col=\"dist_to_stop\")"
   ]
  },
  {
   "cell_type": "code",
   "execution_count": 7,
   "id": "1a706e98",
   "metadata": {},
   "outputs": [],
   "source": [
    "# === Очистка и переименование столбцов ===\n",
    "nearest_stops = nearest_stops[[\"FullName\", \"geometry\", \"global_id_left\", \"global_id_right\", \"dist_to_stop\"]]\n",
    "nearest_stops.rename(columns={\n",
    "    \"global_id_left\": \"sport_global_id\",\n",
    "    \"global_id_right\": \"stop_global_id\"\n",
    "}, inplace=True)"
   ]
  },
  {
   "cell_type": "code",
   "execution_count": null,
   "id": "6610bd7d",
   "metadata": {},
   "outputs": [
    {
     "name": "stdout",
     "output_type": "stream",
     "text": [
      "[INFO] Сопоставлено: 13181 спортобъектов с ближайшими остановками\n",
      "[INFO] Сохранено в: data/processed/sport_with_stops.geojson\n"
     ]
    }
   ],
   "source": [
    "# === Сохранение результата ===\n",
    "output_path = \"../data/processed/sport_with_stops.geojson\"\n",
    "os.makedirs(os.path.dirname(output_path), exist_ok=True)\n",
    "nearest_stops.to_file(output_path, driver=\"GeoJSON\")\n",
    "\n",
    "print(f\"[INFO] Сопоставлено: {len(nearest_stops)} спортобъектов с ближайшими остановками\")\n",
    "print(f\"[INFO] Сохранено в: {output_path}\")\n"
   ]
  }
 ],
 "metadata": {
  "kernelspec": {
   "display_name": "ip_env",
   "language": "python",
   "name": "python3"
  },
  "language_info": {
   "codemirror_mode": {
    "name": "ipython",
    "version": 3
   },
   "file_extension": ".py",
   "mimetype": "text/x-python",
   "name": "python",
   "nbconvert_exporter": "python",
   "pygments_lexer": "ipython3",
   "version": "3.11.0"
  }
 },
 "nbformat": 4,
 "nbformat_minor": 5
}
