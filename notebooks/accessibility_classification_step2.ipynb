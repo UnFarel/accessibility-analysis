{
 "cells": [
  {
   "cell_type": "code",
   "execution_count": 28,
   "id": "fa4324ff",
   "metadata": {},
   "outputs": [],
   "source": [
    "import geopandas as gpd\n",
    "import pandas as pd\n",
    "import os\n"
   ]
  },
  {
   "cell_type": "code",
   "execution_count": 29,
   "id": "c1af3798",
   "metadata": {},
   "outputs": [],
   "source": [
    "# === Пути к данным ===\n",
    "base_path = \"../data/processed\"\n",
    "\n",
    "stops_path = os.path.join(base_path, \"transport_stops.geojson\")\n",
    "routes_path = os.path.join(base_path, \"transport_routes.geojson\")\n",
    "sport_stops_path = os.path.join(base_path, \"sport_with_stops.geojson\")\n",
    "output_path = os.path.join(base_path, \"sport_with_routes.geojson\")"
   ]
  },
  {
   "cell_type": "code",
   "execution_count": 30,
   "id": "911f1514",
   "metadata": {},
   "outputs": [],
   "source": [
    "# === Загрузка данных ===\n",
    "stops = gpd.read_file(stops_path)\n",
    "routes = gpd.read_file(routes_path)\n",
    "sport_with_stops = gpd.read_file(sport_stops_path)"
   ]
  },
  {
   "cell_type": "code",
   "execution_count": 31,
   "id": "e781b600",
   "metadata": {},
   "outputs": [],
   "source": [
    "# === Приведение к одной проекции (метры) ===\n",
    "stops = stops.to_crs(\"EPSG:3857\")\n",
    "routes = routes.to_crs(\"EPSG:3857\")"
   ]
  },
  {
   "cell_type": "code",
   "execution_count": 32,
   "id": "30cbf356",
   "metadata": {},
   "outputs": [],
   "source": [
    "# === Пространственное соединение: какие маршруты проходят через остановку ===\n",
    "# Буфер вокруг остановки (например, 200 м) чтобы попасть в линию маршрута\n",
    "stop_buffer = stops.copy()\n",
    "stop_buffer[\"geometry\"] = stop_buffer.geometry.buffer(200)"
   ]
  },
  {
   "cell_type": "code",
   "execution_count": 33,
   "id": "a74f4eea",
   "metadata": {},
   "outputs": [],
   "source": [
    "# Присваиваем маршруты остановкам\n",
    "stops_with_routes = gpd.sjoin(routes, stop_buffer, how=\"inner\", predicate=\"intersects\")\n",
    "\n",
    "# Выбираем и переименовываем нужные колонки\n",
    "stops_with_routes = stops_with_routes[[\"global_id_right\", \"StationName\", \"RouteNumber\", \"TypeOfTransport\"]]\n",
    "stops_with_routes = stops_with_routes.rename(columns={\n",
    "    \"global_id_right\": \"stop_global_id\",\n",
    "    \"StationName\": \"station_name\",\n",
    "    \"RouteNumber\": \"route_number\",\n",
    "    \"TypeOfTransport\": \"transport_type\"\n",
    "})\n"
   ]
  },
  {
   "cell_type": "code",
   "execution_count": 34,
   "id": "50183c99",
   "metadata": {},
   "outputs": [],
   "source": [
    "# === Объединение с таблицей спортобъектов ===\n",
    "result = sport_with_stops.merge(stops_with_routes, on=\"stop_global_id\", how=\"left\")"
   ]
  },
  {
   "cell_type": "code",
   "execution_count": 35,
   "id": "d0c5eeae",
   "metadata": {},
   "outputs": [
    {
     "name": "stdout",
     "output_type": "stream",
     "text": [
      "[INFO] Сопоставлено маршрутов: 284\n",
      "[INFO] Сохранено в: ../data/processed\\sport_with_routes.geojson\n"
     ]
    }
   ],
   "source": [
    "# === Сохранение результата ===\n",
    "os.makedirs(os.path.dirname(output_path), exist_ok=True)\n",
    "result.to_file(output_path, driver=\"GeoJSON\")\n",
    "\n",
    "print(f\"[INFO] Сопоставлено маршрутов: {result['route_number'].notnull().sum()}\")\n",
    "print(f\"[INFO] Сохранено в: {output_path}\")\n"
   ]
  }
 ],
 "metadata": {
  "kernelspec": {
   "display_name": "ip_env",
   "language": "python",
   "name": "python3"
  },
  "language_info": {
   "codemirror_mode": {
    "name": "ipython",
    "version": 3
   },
   "file_extension": ".py",
   "mimetype": "text/x-python",
   "name": "python",
   "nbconvert_exporter": "python",
   "pygments_lexer": "ipython3",
   "version": "3.11.0"
  }
 },
 "nbformat": 4,
 "nbformat_minor": 5
}
