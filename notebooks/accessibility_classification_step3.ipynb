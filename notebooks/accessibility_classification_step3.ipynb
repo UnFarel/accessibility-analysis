{
 "cells": [
  {
   "cell_type": "markdown",
   "id": "ad3088fe",
   "metadata": {},
   "source": [
    "# Этап 3: Построение признаков для классификации доступности"
   ]
  },
  {
   "cell_type": "markdown",
   "id": "e1ded946",
   "metadata": {},
   "source": [
    "Этот ноутбук выполняет построение признаков для задачи классификации: доступен ли медицинский объект в пределах заданного расстояния от спортивного объекта."
   ]
  },
  {
   "cell_type": "code",
   "execution_count": 5,
   "id": "e12c4c26",
   "metadata": {},
   "outputs": [],
   "source": [
    "import geopandas as gpd\n",
    "import pandas as pd\n",
    "import os\n",
    "from shapely.geometry import Point\n",
    "from shapely.ops import nearest_points\n",
    "from tqdm import tqdm\n",
    "tqdm.pandas()"
   ]
  },
  {
   "cell_type": "code",
   "execution_count": 6,
   "id": "7570ec57",
   "metadata": {},
   "outputs": [
    {
     "name": "stdout",
     "output_type": "stream",
     "text": [
      "[INFO] Всего мед. объектов: 167\n"
     ]
    }
   ],
   "source": [
    "# Загрузка спортивных объектов с маршрутами\n",
    "sport_with_routes = gpd.read_file(\"../data/processed/sport_with_routes.geojson\")\n",
    "\n",
    "# Объединение всех мед. учреждений\n",
    "med_files = [\n",
    "    \"med_1258\", \"med_517\", \"med_502\", \"med_516\", \"med_1260\"\n",
    "]\n",
    "med_gdfs = [gpd.read_file(f\"../data/processed/{name}.geojson\") for name in med_files]\n",
    "med = pd.concat(med_gdfs, ignore_index=True).pipe(gpd.GeoDataFrame, geometry=\"geometry\", crs=\"EPSG:4326\")\n",
    "\n",
    "print(f\"[INFO] Всего мед. объектов: {len(med)}\")"
   ]
  },
  {
   "cell_type": "code",
   "execution_count": 7,
   "id": "9cf793d0",
   "metadata": {},
   "outputs": [
    {
     "name": "stderr",
     "output_type": "stream",
     "text": [
      "100%|██████████| 13181/13181 [00:00<00:00, 17084.97it/s]\n"
     ]
    }
   ],
   "source": [
    "# Перевод в метры (EPSG:3857)\n",
    "sport_proj = sport_with_routes.to_crs(epsg=3857)\n",
    "med_proj = med.to_crs(epsg=3857)\n",
    "\n",
    "# Функция поиска ближайшего расстояния\n",
    "def find_nearest_distance(point, candidates):\n",
    "    nearest = candidates.geometry.distance(point).min()\n",
    "    return nearest\n",
    "\n",
    "# Считаем расстояние до ближайшего мед. объекта\n",
    "sport_proj[\"distance_to_med\"] = sport_proj.geometry.progress_apply(lambda x: find_nearest_distance(x, med_proj))\n",
    "\n",
    "# Бинарная целевая переменная\n",
    "threshold_meters = 1500\n",
    "sport_proj[\"accessible\"] = (sport_proj[\"distance_to_med\"] <= threshold_meters).astype(int)\n"
   ]
  },
  {
   "cell_type": "code",
   "execution_count": 8,
   "id": "264b1a7a",
   "metadata": {},
   "outputs": [],
   "source": [
    "# Количество маршрутов рядом\n",
    "features = sport_proj.groupby(\"stop_global_id\").agg({\n",
    "    \"route_number\": \"nunique\",\n",
    "    \"transport_type\": lambda x: x.value_counts().to_dict()\n",
    "}).rename(columns={\"route_number\": \"num_routes\"})\n",
    "\n",
    "# Распаковка словаря типов транспорта\n",
    "features = features.join(\n",
    "    features[\"transport_type\"].apply(pd.Series).fillna(0).astype(int)\n",
    ").drop(columns=[\"transport_type\"])\n",
    "\n",
    "# Объединяем обратно\n",
    "sport_proj = sport_proj.join(features, on=\"stop_global_id\", rsuffix=\"_agg\")\n",
    "\n",
    "# Удаляем дубликаты по спорту\n",
    "sport_final = sport_proj.drop_duplicates(subset=[\"stop_global_id\"]).copy()\n"
   ]
  },
  {
   "cell_type": "code",
   "execution_count": 10,
   "id": "6ab1541c",
   "metadata": {},
   "outputs": [
    {
     "name": "stdout",
     "output_type": "stream",
     "text": [
      "[INFO] Сохранено: data/processed/features.csv (727 объектов)\n"
     ]
    }
   ],
   "source": [
    "# Финальная таблица\n",
    "columns_to_keep = [\"stop_global_id\", \"distance_to_med\", \"accessible\", \"num_routes\"] +     [col for col in sport_final.columns if col not in [\"geometry\", \"route_number\", \"transport_type\"] and col not in [\"stop_global_id\", \"distance_to_med\", \"accessible\", \"num_routes\"]]\n",
    "\n",
    "features_df = sport_final[[\"stop_global_id\", \"distance_to_med\", \"accessible\", \"num_routes\"] + columns_to_keep]\n",
    "features_df.to_csv(\"../data/processed/features.csv\", index=False)\n",
    "\n",
    "print(f\"[INFO] Сохранено: data/processed/features.csv ({len(features_df)} объектов)\")"
   ]
  }
 ],
 "metadata": {
  "kernelspec": {
   "display_name": "ip_env",
   "language": "python",
   "name": "python3"
  },
  "language_info": {
   "codemirror_mode": {
    "name": "ipython",
    "version": 3
   },
   "file_extension": ".py",
   "mimetype": "text/x-python",
   "name": "python",
   "nbconvert_exporter": "python",
   "pygments_lexer": "ipython3",
   "version": "3.11.0"
  }
 },
 "nbformat": 4,
 "nbformat_minor": 5
}
